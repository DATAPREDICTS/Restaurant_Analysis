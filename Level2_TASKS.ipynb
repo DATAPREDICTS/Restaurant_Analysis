{
 "cells": [
  {
   "cell_type": "markdown",
   "id": "58170b00",
   "metadata": {},
   "source": [
    "# LEVEL 2 : TASK 1 : RESTAURANT RATING"
   ]
  },
  {
   "cell_type": "markdown",
   "id": "7c0376d7",
   "metadata": {},
   "source": [
    "### IMPORT LIBRARIES"
   ]
  },
  {
   "cell_type": "code",
   "execution_count": 1,
   "id": "f56c3e14",
   "metadata": {},
   "outputs": [],
   "source": [
    "import pandas as pd\n",
    "import numpy as np\n",
    "import matplotlib.pyplot as plt\n",
    "%matplotlib inline\n",
    "import seaborn as sns"
   ]
  },
  {
   "cell_type": "markdown",
   "id": "a5cbac49",
   "metadata": {},
   "source": [
    "### DATA COLLECTION"
   ]
  },
  {
   "cell_type": "code",
   "execution_count": 2,
   "id": "6d8617c7",
   "metadata": {},
   "outputs": [],
   "source": [
    "df=pd.read_csv('Dataset .csv',encoding='unicode_escape')"
   ]
  },
  {
   "cell_type": "code",
   "execution_count": 3,
   "id": "84f27801",
   "metadata": {},
   "outputs": [
    {
     "data": {
      "text/html": [
       "<div>\n",
       "<style scoped>\n",
       "    .dataframe tbody tr th:only-of-type {\n",
       "        vertical-align: middle;\n",
       "    }\n",
       "\n",
       "    .dataframe tbody tr th {\n",
       "        vertical-align: top;\n",
       "    }\n",
       "\n",
       "    .dataframe thead th {\n",
       "        text-align: right;\n",
       "    }\n",
       "</style>\n",
       "<table border=\"1\" class=\"dataframe\">\n",
       "  <thead>\n",
       "    <tr style=\"text-align: right;\">\n",
       "      <th></th>\n",
       "      <th>ï»¿Restaurant ID</th>\n",
       "      <th>Restaurant Name</th>\n",
       "      <th>Country Code</th>\n",
       "      <th>City</th>\n",
       "      <th>Address</th>\n",
       "      <th>Locality</th>\n",
       "      <th>Locality Verbose</th>\n",
       "      <th>Longitude</th>\n",
       "      <th>Latitude</th>\n",
       "      <th>Cuisines</th>\n",
       "      <th>...</th>\n",
       "      <th>Currency</th>\n",
       "      <th>Has Table booking</th>\n",
       "      <th>Has Online delivery</th>\n",
       "      <th>Is delivering now</th>\n",
       "      <th>Switch to order menu</th>\n",
       "      <th>Price range</th>\n",
       "      <th>Aggregate rating</th>\n",
       "      <th>Rating color</th>\n",
       "      <th>Rating text</th>\n",
       "      <th>Votes</th>\n",
       "    </tr>\n",
       "  </thead>\n",
       "  <tbody>\n",
       "    <tr>\n",
       "      <th>0</th>\n",
       "      <td>6317637</td>\n",
       "      <td>Le Petit Souffle</td>\n",
       "      <td>162</td>\n",
       "      <td>Makati City</td>\n",
       "      <td>Third Floor, Century City Mall, Kalayaan Avenu...</td>\n",
       "      <td>Century City Mall, Poblacion, Makati City</td>\n",
       "      <td>Century City Mall, Poblacion, Makati City, Mak...</td>\n",
       "      <td>121.027535</td>\n",
       "      <td>14.565443</td>\n",
       "      <td>French, Japanese, Desserts</td>\n",
       "      <td>...</td>\n",
       "      <td>Botswana Pula(P)</td>\n",
       "      <td>Yes</td>\n",
       "      <td>No</td>\n",
       "      <td>No</td>\n",
       "      <td>No</td>\n",
       "      <td>3</td>\n",
       "      <td>4.8</td>\n",
       "      <td>Dark Green</td>\n",
       "      <td>Excellent</td>\n",
       "      <td>314</td>\n",
       "    </tr>\n",
       "    <tr>\n",
       "      <th>1</th>\n",
       "      <td>6304287</td>\n",
       "      <td>Izakaya Kikufuji</td>\n",
       "      <td>162</td>\n",
       "      <td>Makati City</td>\n",
       "      <td>Little Tokyo, 2277 Chino Roces Avenue, Legaspi...</td>\n",
       "      <td>Little Tokyo, Legaspi Village, Makati City</td>\n",
       "      <td>Little Tokyo, Legaspi Village, Makati City, Ma...</td>\n",
       "      <td>121.014101</td>\n",
       "      <td>14.553708</td>\n",
       "      <td>Japanese</td>\n",
       "      <td>...</td>\n",
       "      <td>Botswana Pula(P)</td>\n",
       "      <td>Yes</td>\n",
       "      <td>No</td>\n",
       "      <td>No</td>\n",
       "      <td>No</td>\n",
       "      <td>3</td>\n",
       "      <td>4.5</td>\n",
       "      <td>Dark Green</td>\n",
       "      <td>Excellent</td>\n",
       "      <td>591</td>\n",
       "    </tr>\n",
       "    <tr>\n",
       "      <th>2</th>\n",
       "      <td>6300002</td>\n",
       "      <td>Heat - Edsa Shangri-La</td>\n",
       "      <td>162</td>\n",
       "      <td>Mandaluyong City</td>\n",
       "      <td>Edsa Shangri-La, 1 Garden Way, Ortigas, Mandal...</td>\n",
       "      <td>Edsa Shangri-La, Ortigas, Mandaluyong City</td>\n",
       "      <td>Edsa Shangri-La, Ortigas, Mandaluyong City, Ma...</td>\n",
       "      <td>121.056831</td>\n",
       "      <td>14.581404</td>\n",
       "      <td>Seafood, Asian, Filipino, Indian</td>\n",
       "      <td>...</td>\n",
       "      <td>Botswana Pula(P)</td>\n",
       "      <td>Yes</td>\n",
       "      <td>No</td>\n",
       "      <td>No</td>\n",
       "      <td>No</td>\n",
       "      <td>4</td>\n",
       "      <td>4.4</td>\n",
       "      <td>Green</td>\n",
       "      <td>Very Good</td>\n",
       "      <td>270</td>\n",
       "    </tr>\n",
       "    <tr>\n",
       "      <th>3</th>\n",
       "      <td>6318506</td>\n",
       "      <td>Ooma</td>\n",
       "      <td>162</td>\n",
       "      <td>Mandaluyong City</td>\n",
       "      <td>Third Floor, Mega Fashion Hall, SM Megamall, O...</td>\n",
       "      <td>SM Megamall, Ortigas, Mandaluyong City</td>\n",
       "      <td>SM Megamall, Ortigas, Mandaluyong City, Mandal...</td>\n",
       "      <td>121.056475</td>\n",
       "      <td>14.585318</td>\n",
       "      <td>Japanese, Sushi</td>\n",
       "      <td>...</td>\n",
       "      <td>Botswana Pula(P)</td>\n",
       "      <td>No</td>\n",
       "      <td>No</td>\n",
       "      <td>No</td>\n",
       "      <td>No</td>\n",
       "      <td>4</td>\n",
       "      <td>4.9</td>\n",
       "      <td>Dark Green</td>\n",
       "      <td>Excellent</td>\n",
       "      <td>365</td>\n",
       "    </tr>\n",
       "    <tr>\n",
       "      <th>4</th>\n",
       "      <td>6314302</td>\n",
       "      <td>Sambo Kojin</td>\n",
       "      <td>162</td>\n",
       "      <td>Mandaluyong City</td>\n",
       "      <td>Third Floor, Mega Atrium, SM Megamall, Ortigas...</td>\n",
       "      <td>SM Megamall, Ortigas, Mandaluyong City</td>\n",
       "      <td>SM Megamall, Ortigas, Mandaluyong City, Mandal...</td>\n",
       "      <td>121.057508</td>\n",
       "      <td>14.584450</td>\n",
       "      <td>Japanese, Korean</td>\n",
       "      <td>...</td>\n",
       "      <td>Botswana Pula(P)</td>\n",
       "      <td>Yes</td>\n",
       "      <td>No</td>\n",
       "      <td>No</td>\n",
       "      <td>No</td>\n",
       "      <td>4</td>\n",
       "      <td>4.8</td>\n",
       "      <td>Dark Green</td>\n",
       "      <td>Excellent</td>\n",
       "      <td>229</td>\n",
       "    </tr>\n",
       "  </tbody>\n",
       "</table>\n",
       "<p>5 rows × 21 columns</p>\n",
       "</div>"
      ],
      "text/plain": [
       "   ï»¿Restaurant ID         Restaurant Name  Country Code              City  \\\n",
       "0           6317637        Le Petit Souffle           162       Makati City   \n",
       "1           6304287        Izakaya Kikufuji           162       Makati City   \n",
       "2           6300002  Heat - Edsa Shangri-La           162  Mandaluyong City   \n",
       "3           6318506                    Ooma           162  Mandaluyong City   \n",
       "4           6314302             Sambo Kojin           162  Mandaluyong City   \n",
       "\n",
       "                                             Address  \\\n",
       "0  Third Floor, Century City Mall, Kalayaan Avenu...   \n",
       "1  Little Tokyo, 2277 Chino Roces Avenue, Legaspi...   \n",
       "2  Edsa Shangri-La, 1 Garden Way, Ortigas, Mandal...   \n",
       "3  Third Floor, Mega Fashion Hall, SM Megamall, O...   \n",
       "4  Third Floor, Mega Atrium, SM Megamall, Ortigas...   \n",
       "\n",
       "                                     Locality  \\\n",
       "0   Century City Mall, Poblacion, Makati City   \n",
       "1  Little Tokyo, Legaspi Village, Makati City   \n",
       "2  Edsa Shangri-La, Ortigas, Mandaluyong City   \n",
       "3      SM Megamall, Ortigas, Mandaluyong City   \n",
       "4      SM Megamall, Ortigas, Mandaluyong City   \n",
       "\n",
       "                                    Locality Verbose   Longitude   Latitude  \\\n",
       "0  Century City Mall, Poblacion, Makati City, Mak...  121.027535  14.565443   \n",
       "1  Little Tokyo, Legaspi Village, Makati City, Ma...  121.014101  14.553708   \n",
       "2  Edsa Shangri-La, Ortigas, Mandaluyong City, Ma...  121.056831  14.581404   \n",
       "3  SM Megamall, Ortigas, Mandaluyong City, Mandal...  121.056475  14.585318   \n",
       "4  SM Megamall, Ortigas, Mandaluyong City, Mandal...  121.057508  14.584450   \n",
       "\n",
       "                           Cuisines  ...          Currency Has Table booking  \\\n",
       "0        French, Japanese, Desserts  ...  Botswana Pula(P)               Yes   \n",
       "1                          Japanese  ...  Botswana Pula(P)               Yes   \n",
       "2  Seafood, Asian, Filipino, Indian  ...  Botswana Pula(P)               Yes   \n",
       "3                   Japanese, Sushi  ...  Botswana Pula(P)                No   \n",
       "4                  Japanese, Korean  ...  Botswana Pula(P)               Yes   \n",
       "\n",
       "  Has Online delivery Is delivering now Switch to order menu Price range  \\\n",
       "0                  No                No                   No           3   \n",
       "1                  No                No                   No           3   \n",
       "2                  No                No                   No           4   \n",
       "3                  No                No                   No           4   \n",
       "4                  No                No                   No           4   \n",
       "\n",
       "   Aggregate rating  Rating color Rating text Votes  \n",
       "0               4.8    Dark Green   Excellent   314  \n",
       "1               4.5    Dark Green   Excellent   591  \n",
       "2               4.4         Green   Very Good   270  \n",
       "3               4.9    Dark Green   Excellent   365  \n",
       "4               4.8    Dark Green   Excellent   229  \n",
       "\n",
       "[5 rows x 21 columns]"
      ]
     },
     "execution_count": 3,
     "metadata": {},
     "output_type": "execute_result"
    }
   ],
   "source": [
    "df.head()"
   ]
  },
  {
   "cell_type": "code",
   "execution_count": 4,
   "id": "4f93528d",
   "metadata": {},
   "outputs": [
    {
     "data": {
      "text/plain": [
       "(9551, 21)"
      ]
     },
     "execution_count": 4,
     "metadata": {},
     "output_type": "execute_result"
    }
   ],
   "source": [
    "df.shape"
   ]
  },
  {
   "cell_type": "markdown",
   "id": "5d78fbf3",
   "metadata": {},
   "source": [
    "### TO CHECK NULL VALUES"
   ]
  },
  {
   "cell_type": "code",
   "execution_count": 5,
   "id": "d595ef77",
   "metadata": {},
   "outputs": [
    {
     "data": {
      "text/plain": [
       "ï»¿Restaurant ID        0\n",
       "Restaurant Name         0\n",
       "Country Code            0\n",
       "City                    0\n",
       "Address                 0\n",
       "Locality                0\n",
       "Locality Verbose        0\n",
       "Longitude               0\n",
       "Latitude                0\n",
       "Cuisines                9\n",
       "Average Cost for two    0\n",
       "Currency                0\n",
       "Has Table booking       0\n",
       "Has Online delivery     0\n",
       "Is delivering now       0\n",
       "Switch to order menu    0\n",
       "Price range             0\n",
       "Aggregate rating        0\n",
       "Rating color            0\n",
       "Rating text             0\n",
       "Votes                   0\n",
       "dtype: int64"
      ]
     },
     "execution_count": 5,
     "metadata": {},
     "output_type": "execute_result"
    }
   ],
   "source": [
    "pd.isnull(df).sum()"
   ]
  },
  {
   "cell_type": "markdown",
   "id": "ccb56f8e",
   "metadata": {},
   "source": [
    "### TO DELETE NULL VALUES"
   ]
  },
  {
   "cell_type": "code",
   "execution_count": 6,
   "id": "371f620c",
   "metadata": {},
   "outputs": [],
   "source": [
    "df.dropna(inplace=True)"
   ]
  },
  {
   "cell_type": "code",
   "execution_count": 7,
   "id": "491fb00b",
   "metadata": {},
   "outputs": [
    {
     "data": {
      "text/plain": [
       "(9542, 21)"
      ]
     },
     "execution_count": 7,
     "metadata": {},
     "output_type": "execute_result"
    }
   ],
   "source": [
    "df.shape"
   ]
  },
  {
   "cell_type": "code",
   "execution_count": 8,
   "id": "96350c2f",
   "metadata": {},
   "outputs": [
    {
     "name": "stdout",
     "output_type": "stream",
     "text": [
      "<class 'pandas.core.frame.DataFrame'>\n",
      "Index: 9542 entries, 0 to 9550\n",
      "Data columns (total 21 columns):\n",
      " #   Column                Non-Null Count  Dtype  \n",
      "---  ------                --------------  -----  \n",
      " 0   ï»¿Restaurant ID      9542 non-null   int64  \n",
      " 1   Restaurant Name       9542 non-null   object \n",
      " 2   Country Code          9542 non-null   int64  \n",
      " 3   City                  9542 non-null   object \n",
      " 4   Address               9542 non-null   object \n",
      " 5   Locality              9542 non-null   object \n",
      " 6   Locality Verbose      9542 non-null   object \n",
      " 7   Longitude             9542 non-null   float64\n",
      " 8   Latitude              9542 non-null   float64\n",
      " 9   Cuisines              9542 non-null   object \n",
      " 10  Average Cost for two  9542 non-null   int64  \n",
      " 11  Currency              9542 non-null   object \n",
      " 12  Has Table booking     9542 non-null   object \n",
      " 13  Has Online delivery   9542 non-null   object \n",
      " 14  Is delivering now     9542 non-null   object \n",
      " 15  Switch to order menu  9542 non-null   object \n",
      " 16  Price range           9542 non-null   int64  \n",
      " 17  Aggregate rating      9542 non-null   float64\n",
      " 18  Rating color          9542 non-null   object \n",
      " 19  Rating text           9542 non-null   object \n",
      " 20  Votes                 9542 non-null   int64  \n",
      "dtypes: float64(3), int64(5), object(13)\n",
      "memory usage: 1.6+ MB\n"
     ]
    }
   ],
   "source": [
    "df.info()"
   ]
  },
  {
   "cell_type": "code",
   "execution_count": 9,
   "id": "f7b80953",
   "metadata": {},
   "outputs": [
    {
     "data": {
      "text/html": [
       "<div>\n",
       "<style scoped>\n",
       "    .dataframe tbody tr th:only-of-type {\n",
       "        vertical-align: middle;\n",
       "    }\n",
       "\n",
       "    .dataframe tbody tr th {\n",
       "        vertical-align: top;\n",
       "    }\n",
       "\n",
       "    .dataframe thead th {\n",
       "        text-align: right;\n",
       "    }\n",
       "</style>\n",
       "<table border=\"1\" class=\"dataframe\">\n",
       "  <thead>\n",
       "    <tr style=\"text-align: right;\">\n",
       "      <th></th>\n",
       "      <th>ï»¿Restaurant ID</th>\n",
       "      <th>Country Code</th>\n",
       "      <th>Longitude</th>\n",
       "      <th>Latitude</th>\n",
       "      <th>Average Cost for two</th>\n",
       "      <th>Price range</th>\n",
       "      <th>Aggregate rating</th>\n",
       "      <th>Votes</th>\n",
       "    </tr>\n",
       "  </thead>\n",
       "  <tbody>\n",
       "    <tr>\n",
       "      <th>count</th>\n",
       "      <td>9.542000e+03</td>\n",
       "      <td>9542.000000</td>\n",
       "      <td>9542.000000</td>\n",
       "      <td>9542.000000</td>\n",
       "      <td>9542.000000</td>\n",
       "      <td>9542.000000</td>\n",
       "      <td>9542.000000</td>\n",
       "      <td>9542.000000</td>\n",
       "    </tr>\n",
       "    <tr>\n",
       "      <th>mean</th>\n",
       "      <td>9.043301e+06</td>\n",
       "      <td>18.179208</td>\n",
       "      <td>64.274997</td>\n",
       "      <td>25.848532</td>\n",
       "      <td>1200.326137</td>\n",
       "      <td>1.804968</td>\n",
       "      <td>2.665238</td>\n",
       "      <td>156.772060</td>\n",
       "    </tr>\n",
       "    <tr>\n",
       "      <th>std</th>\n",
       "      <td>8.791967e+06</td>\n",
       "      <td>56.451600</td>\n",
       "      <td>41.197602</td>\n",
       "      <td>11.010094</td>\n",
       "      <td>16128.743876</td>\n",
       "      <td>0.905563</td>\n",
       "      <td>1.516588</td>\n",
       "      <td>430.203324</td>\n",
       "    </tr>\n",
       "    <tr>\n",
       "      <th>min</th>\n",
       "      <td>5.300000e+01</td>\n",
       "      <td>1.000000</td>\n",
       "      <td>-157.948486</td>\n",
       "      <td>-41.330428</td>\n",
       "      <td>0.000000</td>\n",
       "      <td>1.000000</td>\n",
       "      <td>0.000000</td>\n",
       "      <td>0.000000</td>\n",
       "    </tr>\n",
       "    <tr>\n",
       "      <th>25%</th>\n",
       "      <td>3.019312e+05</td>\n",
       "      <td>1.000000</td>\n",
       "      <td>77.081565</td>\n",
       "      <td>28.478658</td>\n",
       "      <td>250.000000</td>\n",
       "      <td>1.000000</td>\n",
       "      <td>2.500000</td>\n",
       "      <td>5.000000</td>\n",
       "    </tr>\n",
       "    <tr>\n",
       "      <th>50%</th>\n",
       "      <td>6.002726e+06</td>\n",
       "      <td>1.000000</td>\n",
       "      <td>77.192031</td>\n",
       "      <td>28.570444</td>\n",
       "      <td>400.000000</td>\n",
       "      <td>2.000000</td>\n",
       "      <td>3.200000</td>\n",
       "      <td>31.000000</td>\n",
       "    </tr>\n",
       "    <tr>\n",
       "      <th>75%</th>\n",
       "      <td>1.835260e+07</td>\n",
       "      <td>1.000000</td>\n",
       "      <td>77.282043</td>\n",
       "      <td>28.642711</td>\n",
       "      <td>700.000000</td>\n",
       "      <td>2.000000</td>\n",
       "      <td>3.700000</td>\n",
       "      <td>130.000000</td>\n",
       "    </tr>\n",
       "    <tr>\n",
       "      <th>max</th>\n",
       "      <td>1.850065e+07</td>\n",
       "      <td>216.000000</td>\n",
       "      <td>174.832089</td>\n",
       "      <td>55.976980</td>\n",
       "      <td>800000.000000</td>\n",
       "      <td>4.000000</td>\n",
       "      <td>4.900000</td>\n",
       "      <td>10934.000000</td>\n",
       "    </tr>\n",
       "  </tbody>\n",
       "</table>\n",
       "</div>"
      ],
      "text/plain": [
       "       ï»¿Restaurant ID  Country Code    Longitude     Latitude  \\\n",
       "count      9.542000e+03   9542.000000  9542.000000  9542.000000   \n",
       "mean       9.043301e+06     18.179208    64.274997    25.848532   \n",
       "std        8.791967e+06     56.451600    41.197602    11.010094   \n",
       "min        5.300000e+01      1.000000  -157.948486   -41.330428   \n",
       "25%        3.019312e+05      1.000000    77.081565    28.478658   \n",
       "50%        6.002726e+06      1.000000    77.192031    28.570444   \n",
       "75%        1.835260e+07      1.000000    77.282043    28.642711   \n",
       "max        1.850065e+07    216.000000   174.832089    55.976980   \n",
       "\n",
       "       Average Cost for two  Price range  Aggregate rating         Votes  \n",
       "count           9542.000000  9542.000000       9542.000000   9542.000000  \n",
       "mean            1200.326137     1.804968          2.665238    156.772060  \n",
       "std            16128.743876     0.905563          1.516588    430.203324  \n",
       "min                0.000000     1.000000          0.000000      0.000000  \n",
       "25%              250.000000     1.000000          2.500000      5.000000  \n",
       "50%              400.000000     2.000000          3.200000     31.000000  \n",
       "75%              700.000000     2.000000          3.700000    130.000000  \n",
       "max           800000.000000     4.000000          4.900000  10934.000000  "
      ]
     },
     "execution_count": 9,
     "metadata": {},
     "output_type": "execute_result"
    }
   ],
   "source": [
    "df.describe()"
   ]
  },
  {
   "cell_type": "markdown",
   "id": "ec65b7e5",
   "metadata": {},
   "source": [
    "#### ANALYZE THE DISTRIBUTION OF AGGREGATE RATINGS AND DETERMINE THE MOST COMMON RATING RANGE."
   ]
  },
  {
   "cell_type": "code",
   "execution_count": 10,
   "id": "11d8de0e",
   "metadata": {},
   "outputs": [
    {
     "data": {
      "text/plain": [
       "Index(['ï»¿Restaurant ID', 'Restaurant Name', 'Country Code', 'City',\n",
       "       'Address', 'Locality', 'Locality Verbose', 'Longitude', 'Latitude',\n",
       "       'Cuisines', 'Average Cost for two', 'Currency', 'Has Table booking',\n",
       "       'Has Online delivery', 'Is delivering now', 'Switch to order menu',\n",
       "       'Price range', 'Aggregate rating', 'Rating color', 'Rating text',\n",
       "       'Votes'],\n",
       "      dtype='object')"
      ]
     },
     "execution_count": 10,
     "metadata": {},
     "output_type": "execute_result"
    }
   ],
   "source": [
    "df.columns"
   ]
  },
  {
   "cell_type": "code",
   "execution_count": 11,
   "id": "ac3261bd",
   "metadata": {},
   "outputs": [
    {
     "data": {
      "image/png": "[encoded data removed]",
      "text/plain": [
       "<Figure size 640x480 with 1 Axes>"
      ]
     },
     "metadata": {},
     "output_type": "display_data"
    }
   ],
   "source": [
    "# Plotting the distribution of aggregate ratings\n",
    "plt.hist(df['Aggregate rating'], bins=5, color='skyblue', edgecolor='black')\n",
    "plt.title('Distribution of Aggregate Ratings')\n",
    "plt.xlabel('Aggregate Rating')\n",
    "plt.ylabel('Frequency')\n",
    "plt.grid(True)\n",
    "plt.show()"
   ]
  },
  {
   "cell_type": "code",
   "execution_count": 12,
   "id": "e7ac3d6a",
   "metadata": {},
   "outputs": [],
   "source": [
    "# Determine the most common rating range\n",
    "rating_counts = df['Aggregate rating'].value_counts()\n",
    "most_common_rating = rating_counts.idxmax()\n",
    "most_common_rating_count = rating_counts.max()"
   ]
  },
  {
   "cell_type": "code",
   "execution_count": 13,
   "id": "bb35ec8f",
   "metadata": {},
   "outputs": [
    {
     "name": "stdout",
     "output_type": "stream",
     "text": [
      "The most common rating range is 0.0 with 2148 restaurants.\n"
     ]
    }
   ],
   "source": [
    "print(f\"The most common rating range is {most_common_rating} with {most_common_rating_count} restaurants.\")"
   ]
  },
  {
   "cell_type": "markdown",
   "id": "c32dfcf2",
   "metadata": {},
   "source": [
    "#### CALCULATE THE AVERAGE NUMBER OF VOTES RECEIVED BY RESTAURANTS."
   ]
  },
  {
   "cell_type": "code",
   "execution_count": 14,
   "id": "02088913",
   "metadata": {},
   "outputs": [
    {
     "name": "stdout",
     "output_type": "stream",
     "text": [
      "Average number of votes received by restaurants: 156.7720603647034\n"
     ]
    }
   ],
   "source": [
    "# Calculate the average number of votes received by restaurants\n",
    "average_votes = df['Votes'].mean()\n",
    "\n",
    "print(\"Average number of votes received by restaurants:\", average_votes)"
   ]
  },
  {
   "cell_type": "markdown",
   "id": "979c8034",
   "metadata": {},
   "source": [
    "# LEVEL 2 : TASK 2 :CUISINE COMBINATION"
   ]
  },
  {
   "cell_type": "markdown",
   "id": "579a2316",
   "metadata": {},
   "source": [
    "#### IDENTIFY THE MOST COMMON COMBINATIONS OF CUISINES IN THE DATASET."
   ]
  },
  {
   "cell_type": "code",
   "execution_count": 15,
   "id": "e1e7bb1d",
   "metadata": {},
   "outputs": [],
   "source": [
    "# Splitting cuisines and counting combinations\n",
    "cuisine_combinations = df['Cuisines'].str.split(', ')\n",
    "cuisine_counts = {}\n",
    "\n",
    "for combination in cuisine_combinations:\n",
    "    combination.sort()  # Sorting to ensure we count combinations regardless of order\n",
    "    key = ', '.join(combination)\n",
    "    cuisine_counts[key] = cuisine_counts.get(key, 0) + 1"
   ]
  },
  {
   "cell_type": "code",
   "execution_count": 16,
   "id": "3c3a77ea",
   "metadata": {},
   "outputs": [
    {
     "name": "stdout",
     "output_type": "stream",
     "text": [
      "Most common combination of cuisines: North Indian\n",
      "Frequency: 936\n"
     ]
    }
   ],
   "source": [
    "# Finding the most common combination\n",
    "most_common_combination = max(cuisine_counts, key=cuisine_counts.get)\n",
    "frequency = cuisine_counts[most_common_combination]\n",
    "\n",
    "print(\"Most common combination of cuisines:\", most_common_combination)\n",
    "print(\"Frequency:\", frequency)"
   ]
  },
  {
   "cell_type": "markdown",
   "id": "62c9a8ca",
   "metadata": {},
   "source": [
    "#### DETERMINE IF CERTAIN CUISINE COMBINATIONS TEND TO HAVE HIGHER RATINGS."
   ]
  },
  {
   "cell_type": "code",
   "execution_count": 24,
   "id": "2538a9e7",
   "metadata": {},
   "outputs": [
    {
     "name": "stdout",
     "output_type": "stream",
     "text": [
      "Average ratings for cuisine combinations:\n",
      "Cuisines            World Cuisine, Patisserie, Cafe\n",
      "Aggregate rating                                4.9\n",
      "dtype: object\n"
     ]
    }
   ],
   "source": [
    " average_rating_by_combination = df.groupby(['Cuisines'])['Aggregate rating'].mean().reset_index().max()\n",
    "\n",
    "print(\"Average ratings for cuisine combinations:\")\n",
    "print(average_rating_by_combination)"
   ]
  },
  {
   "cell_type": "code",
   "execution_count": 25,
   "id": "6dbb77ef",
   "metadata": {},
   "outputs": [
    {
     "name": "stdout",
     "output_type": "stream",
     "text": [
      "Average ratings for cuisine combinations:\n",
      "                                       Cuisines  Aggregate rating\n",
      "0                                       Afghani             0.725\n",
      "1                     Afghani, Mughlai, Chinese             0.000\n",
      "2                         Afghani, North Indian             0.000\n",
      "3     Afghani, North Indian, Pakistani, Arabian             0.000\n",
      "4                                       African             4.700\n",
      "...                                         ...               ...\n",
      "1820                       Western, Asian, Cafe             4.200\n",
      "1821                 Western, Fusion, Fast Food             3.200\n",
      "1822                              World Cuisine             4.900\n",
      "1823            World Cuisine, Mexican, Italian             4.400\n",
      "1824            World Cuisine, Patisserie, Cafe             4.200\n",
      "\n",
      "[1825 rows x 2 columns]\n"
     ]
    }
   ],
   "source": [
    "# Calculate the average rating for each cuisine combination\n",
    "average_rating_by_combination = df.groupby(['Cuisines'])['Aggregate rating'].mean().reset_index()\n",
    "\n",
    "print(\"Average ratings for cuisine combinations:\")\n",
    "print(average_rating_by_combination)"
   ]
  },
  {
   "cell_type": "markdown",
   "id": "abc23d70",
   "metadata": {},
   "source": [
    "# LEVEL 2 : TASK 3 : GEOGRAPHIC ANALYSIS"
   ]
  },
  {
   "cell_type": "markdown",
   "id": "8d714c23",
   "metadata": {},
   "source": [
    "#### PLOT THE LOCATIONS OF RESTAURANTS ON A MAP USING LONGITUDE AND LATITUDE COORDINATES."
   ]
  },
  {
   "cell_type": "code",
   "execution_count": 30,
   "id": "ff163a3a",
   "metadata": {},
   "outputs": [
    {
     "name": "stdout",
     "output_type": "stream",
     "text": [
      "Defaulting to user installation because normal site-packages is not writeable\n",
      "Collecting folium\n",
      "  Obtaining dependency information for folium from https://files.pythonhosted.org/packages/18/09/8569904c8ce5679cc02826d98de633c07abcd2443a23181e5f71ff9dacbc/folium-0.15.1-py2.py3-none-any.whl.metadata\n",
      "  Downloading folium-0.15.1-py2.py3-none-any.whl.metadata (3.4 kB)\n",
      "Collecting branca>=0.6.0 (from folium)\n",
      "  Obtaining dependency information for branca>=0.6.0 from https://files.pythonhosted.org/packages/17/ce/14166d0e273d12065516625fb02426350298e7b4ba59198b5fe454b46202/branca-0.7.1-py3-none-any.whl.metadata\n",
      "  Downloading branca-0.7.1-py3-none-any.whl.metadata (1.5 kB)\n",
      "Requirement already satisfied: jinja2>=2.9 in c:\\anaconda\\lib\\site-packages (from folium) (3.1.2)\n",
      "Requirement already satisfied: numpy in c:\\anaconda\\lib\\site-packages (from folium) (1.24.3)\n",
      "Requirement already satisfied: requests in c:\\anaconda\\lib\\site-packages (from folium) (2.31.0)\n",
      "Requirement already satisfied: xyzservices in c:\\anaconda\\lib\\site-packages (from folium) (2022.9.0)\n",
      "Requirement already satisfied: MarkupSafe>=2.0 in c:\\anaconda\\lib\\site-packages (from jinja2>=2.9->folium) (2.1.1)\n",
      "Requirement already satisfied: charset-normalizer<4,>=2 in c:\\anaconda\\lib\\site-packages (from requests->folium) (2.0.4)\n",
      "Requirement already satisfied: idna<4,>=2.5 in c:\\anaconda\\lib\\site-packages (from requests->folium) (3.4)\n",
      "Requirement already satisfied: urllib3<3,>=1.21.1 in c:\\anaconda\\lib\\site-packages (from requests->folium) (1.26.16)\n",
      "Requirement already satisfied: certifi>=2017.4.17 in c:\\anaconda\\lib\\site-packages (from requests->folium) (2024.2.2)\n",
      "Downloading folium-0.15.1-py2.py3-none-any.whl (97 kB)\n",
      "   ---------------------------------------- 0.0/97.0 kB ? eta -:--:--\n",
      "   ---- ----------------------------------- 10.2/97.0 kB ? eta -:--:--\n",
      "   ---------------------------------------- 97.0/97.0 kB 1.8 MB/s eta 0:00:00\n",
      "Downloading branca-0.7.1-py3-none-any.whl (25 kB)\n",
      "Installing collected packages: branca, folium\n",
      "Successfully installed branca-0.7.1 folium-0.15.1\n"
     ]
    }
   ],
   "source": [
    "!pip install folium"
   ]
  },
  {
   "cell_type": "code",
   "execution_count": 31,
   "id": "3c1334e0",
   "metadata": {},
   "outputs": [],
   "source": [
    "import folium as fl"
   ]
  },
  {
   "cell_type": "code",
   "execution_count": 32,
   "id": "ed669173",
   "metadata": {},
   "outputs": [
    {
     "data": {
      "text/plain": [
       "Index(['ï»¿Restaurant ID', 'Restaurant Name', 'Country Code', 'City',\n",
       "       'Address', 'Locality', 'Locality Verbose', 'Longitude', 'Latitude',\n",
       "       'Cuisines', 'Average Cost for two', 'Currency', 'Has Table booking',\n",
       "       'Has Online delivery', 'Is delivering now', 'Switch to order menu',\n",
       "       'Price range', 'Aggregate rating', 'Rating color', 'Rating text',\n",
       "       'Votes'],\n",
       "      dtype='object')"
      ]
     },
     "execution_count": 32,
     "metadata": {},
     "output_type": "execute_result"
    }
   ],
   "source": [
    "df.columns"
   ]
  },
  {
   "cell_type": "code",
   "execution_count": 33,
   "id": "794b9070",
   "metadata": {},
   "outputs": [],
   "source": [
    "# Create a map centered on the mean latitude and longitude\n",
    "map_restaurants = fl.Map(location=[df['Latitude'].mean(), df['Longitude'].mean()], zoom_start=5)"
   ]
  },
  {
   "cell_type": "code",
   "execution_count": 38,
   "id": "065c254d",
   "metadata": {
    "scrolled": true
   },
   "outputs": [],
   "source": [
    "# Add markers for each restaurant\n",
    "for i, row in df.iterrows():\n",
    "    fl.Marker(location=[row['Latitude'], row['Longitude']], popup=row['Restaurant Name']).add_to(map_restaurants)\n",
    "\n",
    "# Display the map\n",
    "map_restaurants.save('restaurants_map.html')"
   ]
  },
  {
   "cell_type": "markdown",
   "id": "ccdfa57e",
   "metadata": {},
   "source": [
    "#### IDENTIFY ANY PATTERNS OR CLUSTERS OF RESTAURANTS IN SPECIFIC AREA."
   ]
  },
  {
   "cell_type": "code",
   "execution_count": 39,
   "id": "d5551835",
   "metadata": {},
   "outputs": [],
   "source": [
    "from sklearn.cluster import KMeans\n",
    "from sklearn.preprocessing import StandardScaler"
   ]
  },
  {
   "cell_type": "code",
   "execution_count": 41,
   "id": "d193719f",
   "metadata": {},
   "outputs": [
    {
     "data": {
      "image/png": "[encoded data removed]",
      "text/plain": [
       "<Figure size 640x480 with 1 Axes>"
      ]
     },
     "metadata": {},
     "output_type": "display_data"
    }
   ],
   "source": [
    "# Visualize the data\n",
    "plt.scatter(df['Longitude'], df['Latitude'])\n",
    "plt.xlabel('Longitude')\n",
    "plt.ylabel('Latitude')\n",
    "plt.title('Restaurant Locations')\n",
    "plt.show()"
   ]
  },
  {
   "cell_type": "code",
   "execution_count": 45,
   "id": "bede29ac",
   "metadata": {},
   "outputs": [],
   "source": [
    "# Exclude non-numeric columns\n",
    "numeric_columns = df[['Latitude', 'Longitude']]\n",
    "\n",
    "# Standardize the data\n",
    "scaler = StandardScaler()\n",
    "scaled_data = scaler.fit_transform(numeric_columns)"
   ]
  },
  {
   "cell_type": "code",
   "execution_count": 46,
   "id": "9c7bd698",
   "metadata": {},
   "outputs": [
    {
     "name": "stderr",
     "output_type": "stream",
     "text": [
      "C:\\Anaconda\\Lib\\site-packages\\sklearn\\cluster\\_kmeans.py:1412: FutureWarning: The default value of `n_init` will change from 10 to 'auto' in 1.4. Set the value of `n_init` explicitly to suppress the warning\n",
      "  super()._check_params_vs_input(X, default_n_init=10)\n",
      "C:\\Anaconda\\Lib\\site-packages\\sklearn\\cluster\\_kmeans.py:1412: FutureWarning: The default value of `n_init` will change from 10 to 'auto' in 1.4. Set the value of `n_init` explicitly to suppress the warning\n",
      "  super()._check_params_vs_input(X, default_n_init=10)\n",
      "C:\\Anaconda\\Lib\\site-packages\\sklearn\\cluster\\_kmeans.py:1412: FutureWarning: The default value of `n_init` will change from 10 to 'auto' in 1.4. Set the value of `n_init` explicitly to suppress the warning\n",
      "  super()._check_params_vs_input(X, default_n_init=10)\n",
      "C:\\Anaconda\\Lib\\site-packages\\sklearn\\cluster\\_kmeans.py:1412: FutureWarning: The default value of `n_init` will change from 10 to 'auto' in 1.4. Set the value of `n_init` explicitly to suppress the warning\n",
      "  super()._check_params_vs_input(X, default_n_init=10)\n",
      "C:\\Anaconda\\Lib\\site-packages\\sklearn\\cluster\\_kmeans.py:1412: FutureWarning: The default value of `n_init` will change from 10 to 'auto' in 1.4. Set the value of `n_init` explicitly to suppress the warning\n",
      "  super()._check_params_vs_input(X, default_n_init=10)\n",
      "C:\\Anaconda\\Lib\\site-packages\\sklearn\\cluster\\_kmeans.py:1412: FutureWarning: The default value of `n_init` will change from 10 to 'auto' in 1.4. Set the value of `n_init` explicitly to suppress the warning\n",
      "  super()._check_params_vs_input(X, default_n_init=10)\n"
     ]
    },
    {
     "data": {
      "image/png": "[encoded data removed]",
      "text/plain": [
       "<Figure size 640x480 with 1 Axes>"
      ]
     },
     "metadata": {},
     "output_type": "display_data"
    }
   ],
   "source": [
    "# Determine the optimal number of clusters using the elbow method\n",
    "wcss = []\n",
    "for i in range(1, 7):\n",
    "    kmeans = KMeans(n_clusters=i, init='k-means++', random_state=42)\n",
    "    kmeans.fit(scaled_data)\n",
    "    wcss.append(kmeans.inertia_)\n",
    "\n",
    "# Plot the elbow method\n",
    "plt.plot(range(1, 7), wcss)\n",
    "plt.title('Elbow Method')\n",
    "plt.xlabel('Number of Clusters')\n",
    "plt.ylabel('WCSS')\n",
    "plt.show()"
   ]
  },
  {
   "cell_type": "code",
   "execution_count": 47,
   "id": "2d980da2",
   "metadata": {},
   "outputs": [
    {
     "data": {
      "image/png": "[encoded data removed]",
      "text/plain": [
       "<Figure size 640x480 with 1 Axes>"
      ]
     },
     "metadata": {},
     "output_type": "display_data"
    }
   ],
   "source": [
    "# Determine the optimal number of clusters using the elbow method\n",
    "wcss = []\n",
    "for i in range(1, 7):\n",
    "    kmeans = KMeans(n_clusters=3, init='k-means++', random_state=42, n_init=10)\n",
    "    kmeans.fit(scaled_data)\n",
    "    wcss.append(kmeans.inertia_)\n",
    "\n",
    "# Plot the elbow method\n",
    "plt.plot(range(1, 7), wcss)\n",
    "plt.title('Elbow Method')\n",
    "plt.xlabel('Number of Clusters')\n",
    "plt.ylabel('WCSS')\n",
    "plt.show()"
   ]
  },
  {
   "cell_type": "markdown",
   "id": "5661666a",
   "metadata": {},
   "source": [
    "# LEVEL 2 : TASK 4 : RESTAURANT CHAINS"
   ]
  },
  {
   "cell_type": "markdown",
   "id": "1c20d2dd",
   "metadata": {},
   "source": [
    "#### IDENTIFY IF THERE ARE ANY RESTAURANT CHAINS PRESENT IN THE DATASET."
   ]
  },
  {
   "cell_type": "code",
   "execution_count": 48,
   "id": "77b7542a",
   "metadata": {},
   "outputs": [
    {
     "name": "stdout",
     "output_type": "stream",
     "text": [
      "Restaurant chains present in the dataset:\n",
      "Restaurant Name\n",
      "Cafe Coffee Day                   83\n",
      "Domino's Pizza                    79\n",
      "Subway                            63\n",
      "Green Chick Chop                  51\n",
      "McDonald's                        48\n",
      "                                  ..\n",
      "Zaika Kathi Rolls                  2\n",
      "The Night Owl                      2\n",
      "The Cheesecake Factory             2\n",
      "New Kadimi                         2\n",
      "Ceviche Tapas Bar & Restaurant     2\n",
      "Name: count, Length: 734, dtype: int64\n"
     ]
    }
   ],
   "source": [
    "# Count the occurrences of each restaurant name\n",
    "restaurant_counts = df['Restaurant Name'].value_counts()\n",
    "\n",
    "# Find restaurant chains (those with more than one location)\n",
    "restaurant_chains = restaurant_counts[restaurant_counts > 1]\n",
    "\n",
    "# Print the list of restaurant chains\n",
    "if len(restaurant_chains) > 0:\n",
    "    print(\"Restaurant chains present in the dataset:\")\n",
    "    print(restaurant_chains)\n",
    "else:\n",
    "    print(\"No restaurant chains found in the dataset.\")"
   ]
  },
  {
   "cell_type": "markdown",
   "id": "6cc65449",
   "metadata": {},
   "source": [
    "#### ANALYZE THE RATINGS AND POPULARITY OF DIFFERENT RESTAURANT CHAINS."
   ]
  },
  {
   "cell_type": "code",
   "execution_count": 49,
   "id": "0773b8b3",
   "metadata": {},
   "outputs": [
    {
     "data": {
      "text/plain": [
       "Index(['ï»¿Restaurant ID', 'Restaurant Name', 'Country Code', 'City',\n",
       "       'Address', 'Locality', 'Locality Verbose', 'Longitude', 'Latitude',\n",
       "       'Cuisines', 'Average Cost for two', 'Currency', 'Has Table booking',\n",
       "       'Has Online delivery', 'Is delivering now', 'Switch to order menu',\n",
       "       'Price range', 'Aggregate rating', 'Rating color', 'Rating text',\n",
       "       'Votes'],\n",
       "      dtype='object')"
      ]
     },
     "execution_count": 49,
     "metadata": {},
     "output_type": "execute_result"
    }
   ],
   "source": [
    "df.columns"
   ]
  },
  {
   "cell_type": "code",
   "execution_count": 51,
   "id": "019aa7eb",
   "metadata": {},
   "outputs": [],
   "source": [
    "# Define a mapping of textual ratings to numeric values\n",
    "rating_mapping = {\n",
    "    'Good': 3,\n",
    "    'Very Good': 4,\n",
    "    'Excellent': 5,\n",
    "    # Add more mappings as needed\n",
    "}\n",
    "\n",
    "# Map textual ratings to numeric values\n",
    "df['Rating text'] = df['Rating text'].map(rating_mapping)\n",
    "\n",
    "# Now calculate the mean rating and sum of num_ratings\n",
    "chain_stats = df.groupby('Restaurant Name').agg({'Rating text': 'mean', 'Aggregate rating': 'sum'})"
   ]
  },
  {
   "cell_type": "code",
   "execution_count": 52,
   "id": "16f93829",
   "metadata": {},
   "outputs": [
    {
     "name": "stdout",
     "output_type": "stream",
     "text": [
      "Top 10 restaurant chains by popularity:\n",
      "                  Rating text  Aggregate rating\n",
      "Restaurant Name                                \n",
      "Domino's Pizza       3.000000             216.5\n",
      "Cafe Coffee Day      3.000000             200.8\n",
      "Subway               3.000000             183.2\n",
      "McDonald's           3.000000             160.3\n",
      "Green Chick Chop     3.000000             136.3\n",
      "Barbeque Nation      4.307692             113.2\n",
      "Pizza Hut            3.666667              99.6\n",
      "Keventers            3.000000              97.6\n",
      "Giani                3.000000              78.0\n",
      "Dunkin' Donuts       3.000000              69.0\n",
      "\n",
      "Top 10 highest-rated restaurant chains:\n",
      "                              Rating text  Aggregate rating\n",
      "Restaurant Name                                            \n",
      "Licorish Bistro                       5.0               4.6\n",
      "Sushi Leblon                          5.0               4.6\n",
      "Sr. Sol 1                             5.0               4.6\n",
      "La Plage                              5.0               4.6\n",
      "Conï¿½_u                              5.0               4.8\n",
      "Stacks And Racks                      5.0               4.6\n",
      "Star Noodle                           5.0               4.6\n",
      "La Favorita                           5.0               4.5\n",
      "Kuremal Mohan Lal Kulfi Wale          5.0               4.5\n",
      "Kuchi n Kream                         5.0               4.6\n"
     ]
    }
   ],
   "source": [
    "# Group by restaurant name and calculate average rating and total number of ratings\n",
    "chain_stats = df.groupby('Restaurant Name').agg({'Rating text': 'mean', 'Aggregate rating': 'sum'})\n",
    "\n",
    "# Sort the chains by total number of ratings to find the most popular ones\n",
    "sorted_chains_by_popularity = chain_stats.sort_values(by='Aggregate rating', ascending=False)\n",
    "\n",
    "# Sort the chains by average rating to find the highest-rated ones\n",
    "sorted_chains_by_rating = chain_stats.sort_values(by='Rating text', ascending=False)\n",
    "\n",
    "# Print the top 10 chains by popularity\n",
    "print(\"Top 10 restaurant chains by popularity:\")\n",
    "print(sorted_chains_by_popularity.head(10))\n",
    "\n",
    "# Print the top 10 highest-rated chains\n",
    "print(\"\\nTop 10 highest-rated restaurant chains:\")\n",
    "print(sorted_chains_by_rating.head(10))"
   ]
  },
  {
   "cell_type": "markdown",
   "id": "fbc10afa",
   "metadata": {},
   "source": [
    "# THANKYOU"
   ]
  },
  {
   "cell_type": "markdown",
   "id": "b28d1572",
   "metadata": {},
   "source": [
    "### CONNECT WITH ME:\n",
    "#### LinkedIn: https://www.linkedin.com/in/harshita-sharma-b68154220/\n",
    "#### GitHub: https://github.com/DATAPREDICTS\n",
    "#### Instagram: https://www.instagram.com/datapredicts?utm_source=qr&igsh=czVzc2k5c3oxOWQ4\n",
    "#### YouTube: https://youtube.com/@Datapredicts?si=eDKAqVciVxg23zab"
   ]
  }
 ],
 "metadata": {
  "kernelspec": {
   "display_name": "Python 3 (ipykernel)",
   "language": "python",
   "name": "python3"
  },
  "language_info": {
   "codemirror_mode": {
    "name": "ipython",
    "version": 3
   },
   "file_extension": ".py",
   "mimetype": "text/x-python",
   "name": "python",
   "nbconvert_exporter": "python",
   "pygments_lexer": "ipython3",
   "version": "3.11.5"
  }
 },
 "nbformat": 4,
 "nbformat_minor": 5
}
